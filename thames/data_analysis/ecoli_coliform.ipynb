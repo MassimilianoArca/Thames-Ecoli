{
 "cells": [
  {
   "cell_type": "code",
   "execution_count": null,
   "metadata": {},
   "outputs": [],
   "source": [
    "import os\n",
    "import pandas as pd\n",
    "import numpy as np\n",
    "import matplotlib.pyplot as plt\n",
    "import seaborn as sns\n",
    "\n",
    "from scipy import stats"
   ]
  },
  {
   "cell_type": "code",
   "execution_count": 41,
   "metadata": {},
   "outputs": [],
   "source": [
    "temporary_results_path = '/Users/massimilianoarca/Library/CloudStorage/OneDrive-PolitecnicodiMilano/Thames Ecoli/temporary results'\n",
    "\n",
    "full_dataset_path = os.path.join(temporary_results_path, 'full_dataset.csv')"
   ]
  },
  {
   "cell_type": "code",
   "execution_count": null,
   "metadata": {},
   "outputs": [],
   "source": [
    "dataset_df = pd.read_csv(full_dataset_path)"
   ]
  },
  {
   "cell_type": "code",
   "execution_count": null,
   "metadata": {},
   "outputs": [],
   "source": [
    "dataset_df.head(10)"
   ]
  },
  {
   "cell_type": "code",
   "execution_count": null,
   "metadata": {},
   "outputs": [],
   "source": [
    "tntc_df = dataset_df[\n",
    "    (dataset_df[\"Coliform (1ml)\"] == \"TNTC\")\n",
    "    | (dataset_df[\"Ecoli (1ml)\"] == \"TNTC\")\n",
    "]"
   ]
  },
  {
   "cell_type": "code",
   "execution_count": null,
   "metadata": {},
   "outputs": [],
   "source": [
    "clean_df = dataset_df.drop(tntc_df.index)"
   ]
  },
  {
   "cell_type": "code",
   "execution_count": null,
   "metadata": {},
   "outputs": [],
   "source": [
    "clean_df[\"Coliform (1ml)\"] = clean_df[\"Coliform (1ml)\"].astype(\"float64\")\n",
    "clean_df[\"Ecoli (1ml)\"] = clean_df[\"Ecoli (1ml)\"].astype(\"float64\")"
   ]
  },
  {
   "cell_type": "code",
   "execution_count": null,
   "metadata": {},
   "outputs": [],
   "source": [
    "clean_df"
   ]
  },
  {
   "cell_type": "code",
   "execution_count": null,
   "metadata": {},
   "outputs": [],
   "source": [
    "clean_df = (\n",
    "    clean_df.groupby(\n",
    "        [\"Date\", \"Time\", \"Site\", \"Bottle\", \"Sample\"], as_index=False\n",
    "    )\n",
    "    .agg(\n",
    "        {\n",
    "            \"Technician Water Quality\": \"first\",\n",
    "            \"Technician Counting\": \"first\",\n",
    "            \"Temp C\": [\"mean\", \"std\"],\n",
    "            \"Ph\": [\"mean\", \"std\"],\n",
    "            \"Cond (ms)\": [\"mean\", \"std\"],\n",
    "            \"Coliform (1ml)\": [\"mean\", \"std\"],\n",
    "            \"Ecoli (1ml)\": [\"mean\", \"std\"],\n",
    "        },\n",
    "    )\n",
    "    .reset_index()\n",
    ")"
   ]
  },
  {
   "cell_type": "code",
   "execution_count": null,
   "metadata": {},
   "outputs": [],
   "source": [
    "clean_df = clean_df[\n",
    "    clean_df[[\"Coliform (1ml)\", \"Ecoli (1ml)\", \"Temp C\", \"Ph\", \"Cond (ms)\"]]\n",
    "    .notnull()\n",
    "    .all(axis=1)\n",
    "]"
   ]
  },
  {
   "cell_type": "code",
   "execution_count": null,
   "metadata": {},
   "outputs": [],
   "source": [
    "clean_df.columns = [\n",
    "    \"_\".join(col) if col[1] == \"mean\" or col[1] == \"std\" else col[0]\n",
    "    for col in clean_df.columns.values\n",
    "]"
   ]
  },
  {
   "cell_type": "code",
   "execution_count": null,
   "metadata": {},
   "outputs": [],
   "source": [
    "clean_df"
   ]
  },
  {
   "cell_type": "code",
   "execution_count": null,
   "metadata": {},
   "outputs": [],
   "source": [
    "clean_df['CV_Coliform'] = clean_df['Coliform (1ml)_std'] / clean_df['Coliform (1ml)_mean']\n",
    "clean_df['CV_Ecoli'] = clean_df['Ecoli (1ml)_std'] / clean_df['Ecoli (1ml)_mean']"
   ]
  },
  {
   "cell_type": "markdown",
   "metadata": {},
   "source": [
    "# Data Visualization and Analysis"
   ]
  },
  {
   "cell_type": "code",
   "execution_count": null,
   "metadata": {},
   "outputs": [],
   "source": [
    "site_dict = {}\n",
    "for site in clean_df[\"Site\"].unique():\n",
    "    site_dict[site] = clean_df[clean_df[\"Site\"] == site]"
   ]
  },
  {
   "cell_type": "code",
   "execution_count": null,
   "metadata": {},
   "outputs": [],
   "source": [
    "for site in site_dict:\n",
    "    print(\"Site: \", site)\n",
    "    print(\"-\" * 30)\n",
    "    print(site_dict[site].describe().to_string())\n",
    "    print(\"\\n\")\n",
    "    print(\"Timespan: \" + pd.to_datetime(site_dict[site][\"Date\"]).min().strftime('%Y-%m-%d') + ' - ' + pd.to_datetime(site_dict[site][\"Date\"]).max().strftime('%Y-%m-%d'))\n",
    "    print(\"\\n\")"
   ]
  },
  {
   "cell_type": "markdown",
   "metadata": {},
   "source": [
    "## Hypothesis Tests Correlations"
   ]
  },
  {
   "cell_type": "markdown",
   "metadata": {},
   "source": [
    "### Coliform"
   ]
  },
  {
   "cell_type": "code",
   "execution_count": null,
   "metadata": {},
   "outputs": [],
   "source": [
    "for site in site_dict:\n",
    "    print(\"-\" * 30)\n",
    "    print(\"Site: \", site)\n",
    "    r, p = stats.pearsonr(\n",
    "        site_dict[site][\"Temp C_mean\"], site_dict[site][\"Coliform (1ml)_mean\"]\n",
    "    )\n",
    "\n",
    "    print(\"Pearsons correlation: \", r)\n",
    "    print(\"Pearsons p-value: \", p)"
   ]
  },
  {
   "cell_type": "code",
   "execution_count": null,
   "metadata": {},
   "outputs": [],
   "source": [
    "for site in site_dict:\n",
    "    print(\"-\" * 30)\n",
    "    print(\"Site: \", site)\n",
    "    r, p = stats.pearsonr(\n",
    "        site_dict[site][\"Ph_mean\"], site_dict[site][\"Coliform (1ml)_mean\"]\n",
    "    )\n",
    "\n",
    "    print(\"Pearsons correlation: \", r)\n",
    "    print(\"Pearsons p-value: \", p)"
   ]
  },
  {
   "cell_type": "code",
   "execution_count": null,
   "metadata": {},
   "outputs": [],
   "source": [
    "for site in site_dict:\n",
    "    print(\"-\" * 30)\n",
    "    print(\"Site: \", site)\n",
    "    r, p = stats.pearsonr(\n",
    "        site_dict[site][\"Cond (ms)_mean\"],\n",
    "        site_dict[site][\"Coliform (1ml)_mean\"],\n",
    "    )\n",
    "\n",
    "    print(\"Pearsons correlation: \", r)\n",
    "    print(\"Pearsons p-value: \", p)"
   ]
  },
  {
   "cell_type": "code",
   "execution_count": null,
   "metadata": {},
   "outputs": [],
   "source": [
    "for site in site_dict:\n",
    "    print(\"-\" * 30)\n",
    "    print(\"Site: \", site)\n",
    "    r, p = stats.pearsonr(\n",
    "        site_dict[site][\"Temp C_mean\"], site_dict[site][\"Ecoli (1ml)_mean\"]\n",
    "    )\n",
    "\n",
    "    print(\"Pearsons correlation: \", r)\n",
    "    print(\"Pearsons p-value: \", p)"
   ]
  },
  {
   "cell_type": "markdown",
   "metadata": {},
   "source": [
    "### Ecoli"
   ]
  },
  {
   "cell_type": "code",
   "execution_count": null,
   "metadata": {},
   "outputs": [],
   "source": [
    "for site in site_dict:\n",
    "    print(\"-\" * 30)\n",
    "    print(\"Site: \", site)\n",
    "    r, p = stats.pearsonr(\n",
    "        site_dict[site][\"Ph_mean\"], site_dict[site][\"Ecoli (1ml)_mean\"]\n",
    "    )\n",
    "\n",
    "    print(\"Pearsons correlation: \", r)\n",
    "    print(\"Pearsons p-value: \", p)"
   ]
  },
  {
   "cell_type": "code",
   "execution_count": null,
   "metadata": {},
   "outputs": [],
   "source": [
    "for site in site_dict:\n",
    "    print(\"-\" * 30)\n",
    "    print(\"Site: \", site)\n",
    "    r, p = stats.pearsonr(\n",
    "        site_dict[site][\"Cond (ms)_mean\"], site_dict[site][\"Ecoli (1ml)_mean\"]\n",
    "    )\n",
    "\n",
    "    print(\"Pearsons correlation: \", r)\n",
    "    print(\"Pearsons p-value: \", p)"
   ]
  },
  {
   "cell_type": "code",
   "execution_count": null,
   "metadata": {},
   "outputs": [],
   "source": [
    "for site in site_dict:\n",
    "    print(\"-\" * 30)\n",
    "    print(\"Site: \", site)\n",
    "    r, p = stats.pearsonr(\n",
    "        site_dict[site][\"Ecoli (1ml)_mean\"],\n",
    "        site_dict[site][\"Coliform (1ml)_mean\"],\n",
    "    )\n",
    "\n",
    "    print(\"Pearsons correlation: \", r)\n",
    "    print(\"Pearsons p-value: \", p)"
   ]
  },
  {
   "cell_type": "markdown",
   "metadata": {},
   "source": [
    "## Correlation Matrix Heatmap"
   ]
  },
  {
   "cell_type": "code",
   "execution_count": null,
   "metadata": {},
   "outputs": [],
   "source": [
    "cols = [\n",
    "    \"Temp C_mean\",\n",
    "    \"Ph_mean\",\n",
    "    \"Cond (ms)_mean\",\n",
    "    \"Coliform (1ml)_mean\",\n",
    "    \"Ecoli (1ml)_mean\",\n",
    "]\n",
    "\n",
    "\n",
    "# Pearson, used for two quantitative continuous variables which have a linear relationship\n",
    "# Spearman, used for two quantitative variables if the link is partially linear, or for one qualitative ordinal variable and one quantitative variable\n",
    "# Kendall, often used for two qualitative ordinal variables\n",
    "\n",
    "for site in site_dict:\n",
    "    corr = site_dict[site][cols].corr(method=\"pearson\")\n",
    "\n",
    "    plt.figure(figsize=(5, 5))\n",
    "    plt.title(\"Site: \" + site)\n",
    "    ax = sns.heatmap(\n",
    "        corr,\n",
    "        vmin=-1,\n",
    "        vmax=1,\n",
    "        center=0,\n",
    "        cmap=sns.diverging_palette(20, 220, n=200),\n",
    "        square=True,\n",
    "        annot=True,\n",
    "        fmt=\".3f\",\n",
    "    )\n",
    "    ax.set_xticklabels(\n",
    "        ax.get_xticklabels(), rotation=45, horizontalalignment=\"right\"\n",
    "    )"
   ]
  },
  {
   "cell_type": "markdown",
   "metadata": {},
   "source": [
    "## Scatter Plots"
   ]
  },
  {
   "cell_type": "code",
   "execution_count": null,
   "metadata": {},
   "outputs": [],
   "source": [
    "cols = [\n",
    "    \"Temp C_mean\",\n",
    "    \"Ph_mean\",\n",
    "    \"Cond (ms)_mean\",\n",
    "    \"Coliform (1ml)_mean\",\n",
    "    \"Ecoli (1ml)_mean\",\n",
    "]\n",
    "\n",
    "for site in site_dict:\n",
    "    plot = sns.pairplot(data=site_dict[site][cols])\n",
    "    plot.fig.suptitle(\"Site: \" + site, y=1.08)"
   ]
  },
  {
   "cell_type": "markdown",
   "metadata": {},
   "source": [
    "## Boxplots"
   ]
  },
  {
   "cell_type": "code",
   "execution_count": null,
   "metadata": {},
   "outputs": [],
   "source": [
    "cols = [\n",
    "    \"Temp C_mean\",\n",
    "    \"Ph_mean\",\n",
    "    \"Cond (ms)_mean\",\n",
    "    \"Coliform (1ml)_mean\",\n",
    "    \"Ecoli (1ml)_mean\",\n",
    "]\n",
    "\n",
    "for site in site_dict:\n",
    "    for col in cols:\n",
    "        sns.boxplot(y=site_dict[site][col], orient=\"v\")\n",
    "        plt.title(\"Site: \" + site + \" - \" + col)\n",
    "        plt.show()"
   ]
  },
  {
   "cell_type": "markdown",
   "metadata": {},
   "source": [
    "## Timeseries"
   ]
  },
  {
   "cell_type": "code",
   "execution_count": null,
   "metadata": {},
   "outputs": [],
   "source": [
    "for site in site_dict:\n",
    "    for col in cols:\n",
    "        plt.title(\"Site: \" + site + \" - \" + col)\n",
    "        site_dict[site].plot(x=\"Date\", y=col, figsize=(15, 5), grid=True)"
   ]
  },
  {
   "cell_type": "markdown",
   "metadata": {},
   "source": [
    "# Further Processing"
   ]
  },
  {
   "cell_type": "code",
   "execution_count": null,
   "metadata": {},
   "outputs": [],
   "source": [
    "full_df = clean_df.copy()"
   ]
  },
  {
   "cell_type": "code",
   "execution_count": null,
   "metadata": {},
   "outputs": [],
   "source": [
    "rename_dict = {\n",
    "    \"Temp C\": \"Temp C_mean\",\n",
    "    \"Ph\": \"Ph_mean\",\n",
    "    \"Cond (ms)\": \"Cond (ms)_mean\",\n",
    "    \"Coliform (1ml)\": \"Coliform (1ml)_mean\",\n",
    "    \"Ecoli (1ml)\": \"Ecoli (1ml)_mean\",\n",
    "}"
   ]
  },
  {
   "cell_type": "code",
   "execution_count": null,
   "metadata": {},
   "outputs": [],
   "source": [
    "tntc_df.rename(columns=rename_dict, inplace=True)"
   ]
  },
  {
   "cell_type": "code",
   "execution_count": null,
   "metadata": {},
   "outputs": [],
   "source": [
    "tntc_df.drop(columns=[\"Image Date Time\", \"Dilution\"], inplace=True)"
   ]
  },
  {
   "cell_type": "code",
   "execution_count": null,
   "metadata": {},
   "outputs": [],
   "source": [
    "full_df = pd.concat([full_df, tntc_df])"
   ]
  },
  {
   "cell_type": "code",
   "execution_count": null,
   "metadata": {},
   "outputs": [],
   "source": [
    "full_df"
   ]
  },
  {
   "cell_type": "code",
   "execution_count": null,
   "metadata": {},
   "outputs": [],
   "source": [
    "full_df.drop(\n",
    "    columns=[\n",
    "        \"Temp C_std\",\n",
    "        \"Ph_std\",\n",
    "        \"Cond (ms)_std\",\n",
    "        \"Coliform (1ml)_std\",\n",
    "        \"Ecoli (1ml)_std\",\n",
    "        \"CV_Coliform\",\n",
    "        \"CV_Ecoli\",\n",
    "    ],\n",
    "    inplace=True,\n",
    ")"
   ]
  },
  {
   "cell_type": "code",
   "execution_count": 42,
   "metadata": {},
   "outputs": [],
   "source": [
    "processed_dataset_path = os.path.join(temporary_results_path, 'processed_dataset.csv')\n",
    "\n",
    "full_df.to_csv(processed_dataset_path)"
   ]
  }
 ],
 "metadata": {
  "kernelspec": {
   "display_name": "thames-45EJr2e1-py3.12",
   "language": "python",
   "name": "python3"
  },
  "language_info": {
   "codemirror_mode": {
    "name": "ipython",
    "version": 3
   },
   "file_extension": ".py",
   "mimetype": "text/x-python",
   "name": "python",
   "nbconvert_exporter": "python",
   "pygments_lexer": "ipython3",
   "version": "3.12.0"
  }
 },
 "nbformat": 4,
 "nbformat_minor": 2
}
