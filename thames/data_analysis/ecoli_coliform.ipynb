{
 "cells": [
  {
   "cell_type": "code",
   "execution_count": null,
   "metadata": {},
   "outputs": [],
   "source": [
    "import os\n",
    "import pandas as pd\n",
    "import numpy as np\n",
    "import matplotlib.pyplot as plt\n",
    "import seaborn as sns\n",
    "\n",
    "from scipy import stats"
   ]
  },
  {
   "cell_type": "code",
   "execution_count": null,
   "metadata": {},
   "outputs": [],
   "source": [
    "data_path = os.path.join(\"..\", \"data\")\n",
    "\n",
    "dir_store_path = os.path.join(data_path, \"temporary results\")\n",
    "\n",
    "full_dataset_path = os.path.join(dir_store_path, \"full_dataset.xlsx\")"
   ]
  },
  {
   "cell_type": "code",
   "execution_count": null,
   "metadata": {},
   "outputs": [],
   "source": [
    "dataset_df = pd.read_excel(full_dataset_path)"
   ]
  },
  {
   "cell_type": "code",
   "execution_count": null,
   "metadata": {},
   "outputs": [],
   "source": [
    "dataset_df"
   ]
  },
  {
   "cell_type": "markdown",
   "metadata": {},
   "source": [
    "### Get TNTC samples"
   ]
  },
  {
   "cell_type": "code",
   "execution_count": null,
   "metadata": {},
   "outputs": [],
   "source": [
    "tntc_df = dataset_df[\n",
    "    (dataset_df[\"Coliform (1ml)\"] == \"TNTC\")\n",
    "    | (dataset_df[\"Ecoli (1ml)\"] == \"TNTC\")\n",
    "    | (dataset_df[\"Coliform (1ml)\"] == 0)\n",
    "]"
   ]
  },
  {
   "cell_type": "code",
   "execution_count": null,
   "metadata": {},
   "outputs": [],
   "source": [
    "tntc_df"
   ]
  },
  {
   "cell_type": "code",
   "execution_count": null,
   "metadata": {},
   "outputs": [],
   "source": [
    "clean_df = dataset_df.drop(tntc_df.index)"
   ]
  },
  {
   "cell_type": "markdown",
   "metadata": {},
   "source": [
    "## TNTC analysis"
   ]
  },
  {
   "cell_type": "markdown",
   "metadata": {},
   "source": [
    "### Get measurements that have at least one TNTC"
   ]
  },
  {
   "cell_type": "code",
   "execution_count": null,
   "metadata": {},
   "outputs": [],
   "source": [
    "related_tntc_df = pd.merge(\n",
    "    left=clean_df,\n",
    "    right=tntc_df,\n",
    "    on=[\"DateTime\", \"Site\", \"Bottle\"],\n",
    "    how=\"inner\",\n",
    ")\n",
    "\n",
    "# Get columns that end with '_y'\n",
    "cols_to_drop = related_tntc_df.filter(regex=\"_y$\").columns\n",
    "\n",
    "# Drop these columns\n",
    "related_tntc_df = related_tntc_df.drop(columns=cols_to_drop)\n",
    "\n",
    "related_tntc_df.rename(\n",
    "    columns={\n",
    "        \"Sample_x\": \"Sample\",\n",
    "        \"Image Date Time_x\": \"Image Date Time\",\n",
    "        \"Dilution_x\": \"Dilution\",\n",
    "        \"Coliform (1ml)_x\": \"Coliform (1ml)\",\n",
    "        \"Ecoli (1ml)_x\": \"Ecoli (1ml)\",\n",
    "        \"Technician Counting_x\": \"Technician Counting\",\n",
    "        \"Technician Water Quality_x\": \"Technician Water Quality\",\n",
    "        \"Temp C_x\": \"Temp C\",\n",
    "        \"Ph_x\": \"Ph\",\n",
    "        \"Cond (ms)_x\": \"Cond (ms)\",\n",
    "    },\n",
    "    inplace=True,\n",
    ")\n",
    "\n",
    "related_tntc_df = pd.concat([related_tntc_df, tntc_df])\n",
    "\n",
    "related_tntc_df = related_tntc_df.sort_values(by=[\"DateTime\", \"Site\", \"Bottle\"])\n",
    "\n",
    "related_tntc_df.drop_duplicates(inplace=True)"
   ]
  },
  {
   "cell_type": "code",
   "execution_count": null,
   "metadata": {},
   "outputs": [],
   "source": [
    "related_tntc_df"
   ]
  },
  {
   "cell_type": "code",
   "execution_count": null,
   "metadata": {},
   "outputs": [],
   "source": [
    "clean_df[\"Coliform (1ml)\"] = clean_df[\"Coliform (1ml)\"].astype(\"float64\")\n",
    "clean_df[\"Ecoli (1ml)\"] = clean_df[\"Ecoli (1ml)\"].astype(\"float64\")"
   ]
  },
  {
   "cell_type": "code",
   "execution_count": null,
   "metadata": {},
   "outputs": [],
   "source": [
    "clean_df"
   ]
  },
  {
   "cell_type": "code",
   "execution_count": null,
   "metadata": {},
   "outputs": [],
   "source": [
    "clean_df = (\n",
    "    clean_df.groupby([\"DateTime\", \"Site\", \"Bottle\", \"Sample\"], as_index=False)\n",
    "    .agg(\n",
    "        {\n",
    "            \"Technician Water Quality\": \"first\",\n",
    "            \"Technician Counting\": \"first\",\n",
    "            \"Temp C\": [\"mean\", \"std\"],\n",
    "            \"Ph\": [\"mean\", \"std\"],\n",
    "            \"Cond (ms)\": [\"mean\", \"std\"],\n",
    "            \"Coliform (1ml)\": [\"mean\", \"std\"],\n",
    "            \"Ecoli (1ml)\": [\"mean\", \"std\"],\n",
    "        },\n",
    "    )\n",
    "    .reset_index()\n",
    ")"
   ]
  },
  {
   "cell_type": "code",
   "execution_count": null,
   "metadata": {},
   "outputs": [],
   "source": [
    "clean_df = clean_df[\n",
    "    clean_df[[\"Coliform (1ml)\", \"Ecoli (1ml)\", \"Temp C\", \"Ph\", \"Cond (ms)\"]]\n",
    "    .notnull()\n",
    "    .all(axis=1)\n",
    "]"
   ]
  },
  {
   "cell_type": "code",
   "execution_count": null,
   "metadata": {},
   "outputs": [],
   "source": [
    "clean_df.columns = [\n",
    "    \"_\".join(col) if col[1] == \"mean\" or col[1] == \"std\" else col[0]\n",
    "    for col in clean_df.columns.values\n",
    "]"
   ]
  },
  {
   "cell_type": "code",
   "execution_count": null,
   "metadata": {},
   "outputs": [],
   "source": [
    "clean_df"
   ]
  },
  {
   "cell_type": "code",
   "execution_count": null,
   "metadata": {},
   "outputs": [],
   "source": [
    "%%script false --no-raise-error\n",
    "clean_df[\"CV_Coliform\"] = (\n",
    "    clean_df[\"Coliform (1ml)_std\"] / clean_df[\"Coliform (1ml)_mean\"]\n",
    ")\n",
    "clean_df[\"CV_Ecoli\"] = (\n",
    "    clean_df[\"Ecoli (1ml)_std\"] / clean_df[\"Ecoli (1ml)_mean\"]\n",
    ")"
   ]
  },
  {
   "cell_type": "markdown",
   "metadata": {},
   "source": [
    "# Per Site Data Visualization and Analysis"
   ]
  },
  {
   "cell_type": "markdown",
   "metadata": {},
   "source": [
    "## General Info"
   ]
  },
  {
   "cell_type": "code",
   "execution_count": null,
   "metadata": {},
   "outputs": [],
   "source": [
    "site_dict = {}\n",
    "for site in clean_df[\"Site\"].unique():\n",
    "    site_dict[site] = clean_df[clean_df[\"Site\"] == site]"
   ]
  },
  {
   "cell_type": "code",
   "execution_count": null,
   "metadata": {},
   "outputs": [],
   "source": [
    "for site in site_dict:\n",
    "    print(\"Site: \", site)\n",
    "    print(\"-\" * 30)\n",
    "    print(site_dict[site].describe().to_string())\n",
    "    print(\"\\n\")\n",
    "    print(\n",
    "        \"Timespan: \"\n",
    "        + pd.to_datetime(site_dict[site][\"DateTime\"])\n",
    "        .min()\n",
    "        .strftime(\"%Y-%m-%d %H:%M:%S\")\n",
    "        + \" - \"\n",
    "        + pd.to_datetime(site_dict[site][\"DateTime\"])\n",
    "        .max()\n",
    "        .strftime(\"%Y-%m-%d %H:%M:%S\")\n",
    "    )\n",
    "    print(\"\\n\")"
   ]
  },
  {
   "cell_type": "markdown",
   "metadata": {},
   "source": [
    "## Hypothesis Tests Correlations"
   ]
  },
  {
   "cell_type": "markdown",
   "metadata": {},
   "source": [
    "### Coliform"
   ]
  },
  {
   "cell_type": "code",
   "execution_count": null,
   "metadata": {},
   "outputs": [],
   "source": [
    "for site in site_dict:\n",
    "    print(\"-\" * 30)\n",
    "    print(\"Site: \", site)\n",
    "    r, p = stats.pearsonr(\n",
    "        site_dict[site][\"Temp C_mean\"], site_dict[site][\"Coliform (1ml)_mean\"]\n",
    "    )\n",
    "\n",
    "    print(\"Pearsons correlation: \", r)\n",
    "    print(\"Pearsons p-value: \", p)"
   ]
  },
  {
   "cell_type": "code",
   "execution_count": null,
   "metadata": {},
   "outputs": [],
   "source": [
    "for site in site_dict:\n",
    "    print(\"-\" * 30)\n",
    "    print(\"Site: \", site)\n",
    "    r, p = stats.pearsonr(\n",
    "        site_dict[site][\"Ph_mean\"], site_dict[site][\"Coliform (1ml)_mean\"]\n",
    "    )\n",
    "\n",
    "    print(\"Pearsons correlation: \", r)\n",
    "    print(\"Pearsons p-value: \", p)"
   ]
  },
  {
   "cell_type": "code",
   "execution_count": null,
   "metadata": {},
   "outputs": [],
   "source": [
    "for site in site_dict:\n",
    "    print(\"-\" * 30)\n",
    "    print(\"Site: \", site)\n",
    "    r, p = stats.pearsonr(\n",
    "        site_dict[site][\"Cond (ms)_mean\"],\n",
    "        site_dict[site][\"Coliform (1ml)_mean\"],\n",
    "    )\n",
    "\n",
    "    print(\"Pearsons correlation: \", r)\n",
    "    print(\"Pearsons p-value: \", p)"
   ]
  },
  {
   "cell_type": "markdown",
   "metadata": {},
   "source": [
    "### Ecoli"
   ]
  },
  {
   "cell_type": "code",
   "execution_count": null,
   "metadata": {},
   "outputs": [],
   "source": [
    "for site in site_dict:\n",
    "    print(\"-\" * 30)\n",
    "    print(\"Site: \", site)\n",
    "    r, p = stats.pearsonr(\n",
    "        site_dict[site][\"Temp C_mean\"], site_dict[site][\"Ecoli (1ml)_mean\"]\n",
    "    )\n",
    "\n",
    "    print(\"Pearsons correlation: \", r)\n",
    "    print(\"Pearsons p-value: \", p)"
   ]
  },
  {
   "cell_type": "code",
   "execution_count": null,
   "metadata": {},
   "outputs": [],
   "source": [
    "for site in site_dict:\n",
    "    print(\"-\" * 30)\n",
    "    print(\"Site: \", site)\n",
    "    r, p = stats.pearsonr(\n",
    "        site_dict[site][\"Ph_mean\"], site_dict[site][\"Ecoli (1ml)_mean\"]\n",
    "    )\n",
    "\n",
    "    print(\"Pearsons correlation: \", r)\n",
    "    print(\"Pearsons p-value: \", p)"
   ]
  },
  {
   "cell_type": "code",
   "execution_count": null,
   "metadata": {},
   "outputs": [],
   "source": [
    "for site in site_dict:\n",
    "    print(\"-\" * 30)\n",
    "    print(\"Site: \", site)\n",
    "    r, p = stats.pearsonr(\n",
    "        site_dict[site][\"Cond (ms)_mean\"], site_dict[site][\"Ecoli (1ml)_mean\"]\n",
    "    )\n",
    "\n",
    "    print(\"Pearsons correlation: \", r)\n",
    "    print(\"Pearsons p-value: \", p)"
   ]
  },
  {
   "cell_type": "code",
   "execution_count": null,
   "metadata": {},
   "outputs": [],
   "source": [
    "for site in site_dict:\n",
    "    print(\"-\" * 30)\n",
    "    print(\"Site: \", site)\n",
    "    r, p = stats.pearsonr(\n",
    "        site_dict[site][\"Ecoli (1ml)_mean\"],\n",
    "        site_dict[site][\"Coliform (1ml)_mean\"],\n",
    "    )\n",
    "\n",
    "    print(\"Pearsons correlation: \", r)\n",
    "    print(\"Pearsons p-value: \", p)"
   ]
  },
  {
   "cell_type": "markdown",
   "metadata": {},
   "source": [
    "## Correlation Matrix Heatmap"
   ]
  },
  {
   "cell_type": "code",
   "execution_count": null,
   "metadata": {},
   "outputs": [],
   "source": [
    "cols = [\n",
    "    \"Temp C_mean\",\n",
    "    \"Ph_mean\",\n",
    "    \"Cond (ms)_mean\",\n",
    "    \"Coliform (1ml)_mean\",\n",
    "    \"Ecoli (1ml)_mean\",\n",
    "]\n",
    "\n",
    "\n",
    "# Pearson, used for two quantitative continuous variables which have a linear relationship\n",
    "# Spearman, used for two quantitative variables if the link is partially linear, or for one qualitative ordinal variable and one quantitative variable\n",
    "# Kendall, often used for two qualitative ordinal variables\n",
    "\n",
    "for site in site_dict:\n",
    "    corr = site_dict[site][cols].corr(method=\"pearson\")\n",
    "\n",
    "    plt.figure(figsize=(5, 5))\n",
    "    plt.title(\"Site: \" + site)\n",
    "    ax = sns.heatmap(\n",
    "        corr,\n",
    "        vmin=-1,\n",
    "        vmax=1,\n",
    "        center=0,\n",
    "        cmap=sns.diverging_palette(20, 220, n=200),\n",
    "        square=True,\n",
    "        annot=True,\n",
    "        fmt=\".3f\",\n",
    "    )\n",
    "    ax.set_xticklabels(\n",
    "        ax.get_xticklabels(), rotation=45, horizontalalignment=\"right\"\n",
    "    )"
   ]
  },
  {
   "cell_type": "markdown",
   "metadata": {},
   "source": [
    "## Scatter Plots"
   ]
  },
  {
   "cell_type": "code",
   "execution_count": null,
   "metadata": {},
   "outputs": [],
   "source": [
    "cols = [\n",
    "    \"Temp C_mean\",\n",
    "    \"Ph_mean\",\n",
    "    \"Cond (ms)_mean\",\n",
    "    \"Coliform (1ml)_mean\",\n",
    "    \"Ecoli (1ml)_mean\",\n",
    "]\n",
    "\n",
    "for site in site_dict:\n",
    "    plot = sns.pairplot(data=site_dict[site][cols])\n",
    "    plot.fig.suptitle(\"Site: \" + site, y=1.08)"
   ]
  },
  {
   "cell_type": "markdown",
   "metadata": {},
   "source": [
    "## Boxplots"
   ]
  },
  {
   "cell_type": "code",
   "execution_count": null,
   "metadata": {},
   "outputs": [],
   "source": [
    "cols = [\n",
    "    \"Temp C_mean\",\n",
    "    \"Ph_mean\",\n",
    "    \"Cond (ms)_mean\",\n",
    "    \"Coliform (1ml)_mean\",\n",
    "    \"Ecoli (1ml)_mean\",\n",
    "]\n",
    "\n",
    "for site in site_dict:\n",
    "    for col in cols:\n",
    "        sns.boxplot(y=site_dict[site][col], orient=\"v\")\n",
    "        plt.title(\"Site: \" + site + \" - \" + col)\n",
    "        plt.show()"
   ]
  },
  {
   "cell_type": "markdown",
   "metadata": {},
   "source": [
    "## Timeseries"
   ]
  },
  {
   "cell_type": "code",
   "execution_count": null,
   "metadata": {},
   "outputs": [],
   "source": [
    "for site in site_dict:\n",
    "    for col in cols:\n",
    "        site_dict[site].plot(\n",
    "            x=\"DateTime\", y=col, figsize=(15, 5), grid=True, kind=\"scatter\"\n",
    "        )\n",
    "        plt.title(\"Site: \" + site + \" - \" + col)"
   ]
  },
  {
   "cell_type": "markdown",
   "metadata": {},
   "source": [
    "## Check Input Distribution Difference TNTC/noTNTC"
   ]
  },
  {
   "cell_type": "code",
   "execution_count": null,
   "metadata": {},
   "outputs": [],
   "source": [
    "for site in clean_df[\"Site\"].unique():\n",
    "    clean = clean_df[clean_df[\"Site\"] == site]\n",
    "    tntc = tntc_df[tntc_df[\"Site\"] == site]\n",
    "\n",
    "    fig, axs = plt.subplots(3, figsize=(15, 15))\n",
    "    features = [\"Temp C_mean\", \"Ph_mean\", \"Cond (ms)_mean\"]\n",
    "    tntc_features = [\"Temp C\", \"Ph\", \"Cond (ms)\"]\n",
    "\n",
    "    for i, ax in enumerate(axs):\n",
    "        ax.hist(\n",
    "            clean[features[i]], color=\"blue\", alpha=0.5, bins=30, label=\"clean\"\n",
    "        )\n",
    "        ax.hist(\n",
    "            tntc[tntc_features[i]],\n",
    "            color=\"red\",\n",
    "            alpha=0.5,\n",
    "            bins=30,\n",
    "            label=\"tntc\",\n",
    "        )\n",
    "        ax.set_title(features[i])\n",
    "        ax.legend(loc=\"upper right\")\n",
    "\n",
    "    plt.suptitle(\"Site: \" + site)\n",
    "    plt.tight_layout()\n",
    "    plt.show()"
   ]
  },
  {
   "cell_type": "markdown",
   "metadata": {},
   "source": [
    "# Overall Data Visualization and Analysis"
   ]
  },
  {
   "cell_type": "markdown",
   "metadata": {},
   "source": [
    "## General Info"
   ]
  },
  {
   "cell_type": "code",
   "execution_count": null,
   "metadata": {},
   "outputs": [],
   "source": [
    "overall_df = clean_df.copy()"
   ]
  },
  {
   "cell_type": "code",
   "execution_count": null,
   "metadata": {},
   "outputs": [],
   "source": [
    "overall_df.drop(columns=[\"Site\"], inplace=True)"
   ]
  },
  {
   "cell_type": "code",
   "execution_count": null,
   "metadata": {},
   "outputs": [],
   "source": [
    "print(overall_df.describe().to_string())\n",
    "print(\"\\n\")\n",
    "print(\n",
    "    \"Timespan: \"\n",
    "    + pd.to_datetime(overall_df[\"DateTime\"]).min().strftime(\"%Y-%m-%d %H:%M:%S\")\n",
    "    + \" - \"\n",
    "    + pd.to_datetime(overall_df[\"DateTime\"]).max().strftime(\"%Y-%m-%d %H:%M:%S\")\n",
    ")"
   ]
  },
  {
   "cell_type": "markdown",
   "metadata": {},
   "source": [
    "## Hypothesis Tests Correlations"
   ]
  },
  {
   "cell_type": "markdown",
   "metadata": {},
   "source": [
    "### Coliform"
   ]
  },
  {
   "cell_type": "code",
   "execution_count": null,
   "metadata": {},
   "outputs": [],
   "source": [
    "r, p = stats.pearsonr(\n",
    "    overall_df[\"Temp C_mean\"], overall_df[\"Coliform (1ml)_mean\"]\n",
    ")\n",
    "\n",
    "print(\"Pearsons correlation: \", r)\n",
    "print(\"Pearsons p-value: \", p)"
   ]
  },
  {
   "cell_type": "code",
   "execution_count": null,
   "metadata": {},
   "outputs": [],
   "source": [
    "r, p = stats.pearsonr(overall_df[\"Ph_mean\"], overall_df[\"Coliform (1ml)_mean\"])\n",
    "\n",
    "print(\"Pearsons correlation: \", r)\n",
    "print(\"Pearsons p-value: \", p)"
   ]
  },
  {
   "cell_type": "code",
   "execution_count": null,
   "metadata": {},
   "outputs": [],
   "source": [
    "r, p = stats.pearsonr(\n",
    "    overall_df[\"Cond (ms)_mean\"], overall_df[\"Coliform (1ml)_mean\"]\n",
    ")\n",
    "\n",
    "print(\"Pearsons correlation: \", r)\n",
    "print(\"Pearsons p-value: \", p)"
   ]
  },
  {
   "cell_type": "markdown",
   "metadata": {},
   "source": [
    "### Ecoli"
   ]
  },
  {
   "cell_type": "code",
   "execution_count": null,
   "metadata": {},
   "outputs": [],
   "source": [
    "r, p = stats.pearsonr(overall_df[\"Temp C_mean\"], overall_df[\"Ecoli (1ml)_mean\"])\n",
    "\n",
    "print(\"Pearsons correlation: \", r)\n",
    "print(\"Pearsons p-value: \", p)"
   ]
  },
  {
   "cell_type": "code",
   "execution_count": null,
   "metadata": {},
   "outputs": [],
   "source": [
    "r, p = stats.pearsonr(overall_df[\"Ph_mean\"], overall_df[\"Ecoli (1ml)_mean\"])\n",
    "\n",
    "print(\"Pearsons correlation: \", r)\n",
    "print(\"Pearsons p-value: \", p)"
   ]
  },
  {
   "cell_type": "code",
   "execution_count": null,
   "metadata": {},
   "outputs": [],
   "source": [
    "r, p = stats.pearsonr(\n",
    "    overall_df[\"Cond (ms)_mean\"], overall_df[\"Ecoli (1ml)_mean\"]\n",
    ")\n",
    "\n",
    "print(\"Pearsons correlation: \", r)\n",
    "print(\"Pearsons p-value: \", p)"
   ]
  },
  {
   "cell_type": "code",
   "execution_count": null,
   "metadata": {},
   "outputs": [],
   "source": [
    "r, p = stats.pearsonr(\n",
    "    overall_df[\"Coliform (1ml)_mean\"], overall_df[\"Ecoli (1ml)_mean\"]\n",
    ")\n",
    "\n",
    "print(\"Pearsons correlation: \", r)\n",
    "print(\"Pearsons p-value: \", p)"
   ]
  },
  {
   "cell_type": "markdown",
   "metadata": {},
   "source": [
    "## Correlation Matrix Heatmap"
   ]
  },
  {
   "cell_type": "code",
   "execution_count": null,
   "metadata": {},
   "outputs": [],
   "source": [
    "cols = [\n",
    "    \"Temp C_mean\",\n",
    "    \"Ph_mean\",\n",
    "    \"Cond (ms)_mean\",\n",
    "    \"Coliform (1ml)_mean\",\n",
    "    \"Ecoli (1ml)_mean\",\n",
    "]\n",
    "\n",
    "\n",
    "# Pearson, used for two quantitative continuous variables which have a linear relationship\n",
    "# Spearman, used for two quantitative variables if the link is partially linear, or for one qualitative ordinal variable and one quantitative variable\n",
    "# Kendall, often used for two qualitative ordinal variables\n",
    "\n",
    "corr = overall_df[cols].corr(method=\"pearson\")\n",
    "\n",
    "plt.figure(figsize=(5, 5))\n",
    "ax = sns.heatmap(\n",
    "    corr,\n",
    "    vmin=-1,\n",
    "    vmax=1,\n",
    "    center=0,\n",
    "    cmap=sns.diverging_palette(20, 220, n=200),\n",
    "    square=True,\n",
    "    annot=True,\n",
    "    fmt=\".3f\",\n",
    ")\n",
    "ax.set_xticklabels(\n",
    "    ax.get_xticklabels(), rotation=45, horizontalalignment=\"right\"\n",
    ")"
   ]
  },
  {
   "cell_type": "markdown",
   "metadata": {},
   "source": [
    "## Scatter Plots"
   ]
  },
  {
   "cell_type": "code",
   "execution_count": null,
   "metadata": {},
   "outputs": [],
   "source": [
    "cols = [\n",
    "    \"Temp C_mean\",\n",
    "    \"Ph_mean\",\n",
    "    \"Cond (ms)_mean\",\n",
    "    \"Coliform (1ml)_mean\",\n",
    "    \"Ecoli (1ml)_mean\",\n",
    "]\n",
    "\n",
    "\n",
    "plot = sns.pairplot(data=overall_df[cols])"
   ]
  },
  {
   "cell_type": "markdown",
   "metadata": {},
   "source": [
    "## Boxplots"
   ]
  },
  {
   "cell_type": "code",
   "execution_count": null,
   "metadata": {},
   "outputs": [],
   "source": [
    "cols = [\n",
    "    \"Temp C_mean\",\n",
    "    \"Ph_mean\",\n",
    "    \"Cond (ms)_mean\",\n",
    "    \"Coliform (1ml)_mean\",\n",
    "    \"Ecoli (1ml)_mean\",\n",
    "]\n",
    "\n",
    "for col in cols:\n",
    "    sns.boxplot(y=overall_df[col], orient=\"v\")\n",
    "    plt.title(col)\n",
    "    plt.show()"
   ]
  },
  {
   "cell_type": "markdown",
   "metadata": {},
   "source": [
    "## Timeseries"
   ]
  },
  {
   "cell_type": "code",
   "execution_count": null,
   "metadata": {},
   "outputs": [],
   "source": [
    "cols = [\n",
    "    \"Temp C_mean\",\n",
    "    \"Ph_mean\",\n",
    "    \"Cond (ms)_mean\",\n",
    "    \"Coliform (1ml)_mean\",\n",
    "    \"Ecoli (1ml)_mean\",\n",
    "]\n",
    "\n",
    "for col in cols:\n",
    "    overall_df.plot(x=\"DateTime\", y=col, figsize=(15, 5), grid=True)\n",
    "    plt.title(col)"
   ]
  },
  {
   "cell_type": "markdown",
   "metadata": {},
   "source": [
    "## Check Input Distribution Difference TNTC/noTNTC"
   ]
  },
  {
   "cell_type": "code",
   "execution_count": null,
   "metadata": {},
   "outputs": [],
   "source": [
    "tntc = tntc_df.drop(columns=[\"Site\"])\n",
    "\n",
    "fig, axs = plt.subplots(3, figsize=(15, 15))\n",
    "features = [\"Temp C_mean\", \"Ph_mean\", \"Cond (ms)_mean\"]\n",
    "tntc_features = [\"Temp C\", \"Ph\", \"Cond (ms)\"]\n",
    "\n",
    "for i, ax in enumerate(axs):\n",
    "    ax.hist(\n",
    "        overall_df[features[i]], color=\"blue\", alpha=0.5, bins=30, label=\"clean\"\n",
    "    )\n",
    "    ax.hist(\n",
    "        tntc[tntc_features[i]],\n",
    "        color=\"red\",\n",
    "        alpha=0.5,\n",
    "        bins=30,\n",
    "        label=\"tntc\",\n",
    "    )\n",
    "    ax.set_title(features[i])\n",
    "    ax.legend(loc=\"upper right\")\n",
    "\n",
    "plt.tight_layout()\n",
    "plt.show()"
   ]
  },
  {
   "cell_type": "markdown",
   "metadata": {},
   "source": [
    "# Further Processing"
   ]
  },
  {
   "cell_type": "code",
   "execution_count": null,
   "metadata": {},
   "outputs": [],
   "source": [
    "clean = clean_df.copy()\n",
    "tntc = tntc_df.copy()"
   ]
  },
  {
   "cell_type": "code",
   "execution_count": null,
   "metadata": {},
   "outputs": [],
   "source": [
    "rename_dict = {\n",
    "    \"Temp C\": \"Temp C_mean\",\n",
    "    \"Ph\": \"Ph_mean\",\n",
    "    \"Cond (ms)\": \"Cond (ms)_mean\",\n",
    "    \"Coliform (1ml)\": \"Coliform (1ml)_mean\",\n",
    "    \"Ecoli (1ml)\": \"Ecoli (1ml)_mean\",\n",
    "}"
   ]
  },
  {
   "cell_type": "code",
   "execution_count": null,
   "metadata": {},
   "outputs": [],
   "source": [
    "tntc.rename(columns=rename_dict, inplace=True)"
   ]
  },
  {
   "cell_type": "code",
   "execution_count": null,
   "metadata": {},
   "outputs": [],
   "source": [
    "tntc.drop(columns=[\"Image Date Time\", \"Dilution\"], inplace=True)"
   ]
  },
  {
   "cell_type": "code",
   "execution_count": null,
   "metadata": {},
   "outputs": [],
   "source": [
    "clean_df"
   ]
  },
  {
   "cell_type": "code",
   "execution_count": null,
   "metadata": {},
   "outputs": [],
   "source": [
    "clean_df.to_excel(\n",
    "    os.path.join(dir_store_path, \"clean_dataset.xlsx\"), index=False\n",
    ")"
   ]
  },
  {
   "cell_type": "code",
   "execution_count": null,
   "metadata": {},
   "outputs": [],
   "source": [
    "tntc_df.to_excel(os.path.join(dir_store_path, \"tntc_dataset.xlsx\"), index=False)"
   ]
  },
  {
   "cell_type": "code",
   "execution_count": null,
   "metadata": {},
   "outputs": [],
   "source": [
    "full_df = pd.concat([clean, tntc])"
   ]
  },
  {
   "cell_type": "markdown",
   "metadata": {},
   "source": [
    "### Processed clean_df with means and stds computed + TNTC"
   ]
  },
  {
   "cell_type": "code",
   "execution_count": null,
   "metadata": {},
   "outputs": [],
   "source": [
    "full_df"
   ]
  },
  {
   "cell_type": "code",
   "execution_count": null,
   "metadata": {},
   "outputs": [],
   "source": [
    "full_df.drop(\n",
    "    columns=[\n",
    "        \"Temp C_std\",\n",
    "        \"Ph_std\",\n",
    "        \"Cond (ms)_std\",\n",
    "        \"Coliform (1ml)_std\",\n",
    "        \"Ecoli (1ml)_std\",\n",
    "    ],\n",
    "    inplace=True,\n",
    ")"
   ]
  },
  {
   "cell_type": "code",
   "execution_count": null,
   "metadata": {},
   "outputs": [],
   "source": [
    "processed_dataset_path = os.path.join(dir_store_path, \"processed_dataset.xlsx\")\n",
    "\n",
    "full_df.to_excel(processed_dataset_path)"
   ]
  }
 ],
 "metadata": {
  "kernelspec": {
   "display_name": "thames-45EJr2e1-py3.12",
   "language": "python",
   "name": "python3"
  },
  "language_info": {
   "codemirror_mode": {
    "name": "ipython",
    "version": 3
   },
   "file_extension": ".py",
   "mimetype": "text/x-python",
   "name": "python",
   "nbconvert_exporter": "python",
   "pygments_lexer": "ipython3",
   "version": "3.12.0"
  }
 },
 "nbformat": 4,
 "nbformat_minor": 2
}
